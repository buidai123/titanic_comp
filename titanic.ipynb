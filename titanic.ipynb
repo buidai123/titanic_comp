{
 "cells": [
  {
   "cell_type": "markdown",
   "metadata": {},
   "source": [
    "# Scratch ver"
   ]
  },
  {
   "cell_type": "markdown",
   "metadata": {},
   "source": [
    "import and adjust layout"
   ]
  },
  {
   "cell_type": "code",
   "execution_count": 1,
   "metadata": {},
   "outputs": [],
   "source": [
    "import torch, numpy as np, pandas as pd\n",
    "from torch import tensor\n",
    "from pathlib import Path\n",
    "import matplotlib.pyplot as plt\n",
    "import seaborn as sns\n",
    "import torch.nn.functional as F\n",
    "from sklearn.preprocessing import StandardScaler\n",
    "from sklearn.impute import KNNImputer\n",
    "\n",
    "torch.manual_seed(442)\n",
    "\n",
    "sns.set_style('whitegrid')\n",
    "\n",
    "np.printoptions(linewidth=140)\n",
    "torch.set_printoptions(linewidth=140, sci_mode=False, edgeitems=7)\n",
    "pd.set_option(\"display.width\", 140)"
   ]
  },
  {
   "cell_type": "code",
   "execution_count": 2,
   "metadata": {},
   "outputs": [],
   "source": [
    "path = Path(\"./input\")\n",
    "train_path = path/\"train.csv\"\n",
    "trn_df = pd.read_csv(train_path)"
   ]
  },
  {
   "cell_type": "code",
   "execution_count": 3,
   "metadata": {},
   "outputs": [
    {
     "data": {
      "text/html": [
       "<div>\n",
       "<style scoped>\n",
       "    .dataframe tbody tr th:only-of-type {\n",
       "        vertical-align: middle;\n",
       "    }\n",
       "\n",
       "    .dataframe tbody tr th {\n",
       "        vertical-align: top;\n",
       "    }\n",
       "\n",
       "    .dataframe thead th {\n",
       "        text-align: right;\n",
       "    }\n",
       "</style>\n",
       "<table border=\"1\" class=\"dataframe\">\n",
       "  <thead>\n",
       "    <tr style=\"text-align: right;\">\n",
       "      <th></th>\n",
       "      <th>PassengerId</th>\n",
       "      <th>Survived</th>\n",
       "      <th>Pclass</th>\n",
       "      <th>Name</th>\n",
       "      <th>Sex</th>\n",
       "      <th>Age</th>\n",
       "      <th>SibSp</th>\n",
       "      <th>Parch</th>\n",
       "      <th>Ticket</th>\n",
       "      <th>Fare</th>\n",
       "      <th>Cabin</th>\n",
       "      <th>Embarked</th>\n",
       "    </tr>\n",
       "  </thead>\n",
       "  <tbody>\n",
       "    <tr>\n",
       "      <th>0</th>\n",
       "      <td>1</td>\n",
       "      <td>0</td>\n",
       "      <td>3</td>\n",
       "      <td>Braund, Mr. Owen Harris</td>\n",
       "      <td>male</td>\n",
       "      <td>22.0</td>\n",
       "      <td>1</td>\n",
       "      <td>0</td>\n",
       "      <td>A/5 21171</td>\n",
       "      <td>7.2500</td>\n",
       "      <td>NaN</td>\n",
       "      <td>S</td>\n",
       "    </tr>\n",
       "    <tr>\n",
       "      <th>1</th>\n",
       "      <td>2</td>\n",
       "      <td>1</td>\n",
       "      <td>1</td>\n",
       "      <td>Cumings, Mrs. John Bradley (Florence Briggs Th...</td>\n",
       "      <td>female</td>\n",
       "      <td>38.0</td>\n",
       "      <td>1</td>\n",
       "      <td>0</td>\n",
       "      <td>PC 17599</td>\n",
       "      <td>71.2833</td>\n",
       "      <td>C85</td>\n",
       "      <td>C</td>\n",
       "    </tr>\n",
       "    <tr>\n",
       "      <th>2</th>\n",
       "      <td>3</td>\n",
       "      <td>1</td>\n",
       "      <td>3</td>\n",
       "      <td>Heikkinen, Miss. Laina</td>\n",
       "      <td>female</td>\n",
       "      <td>26.0</td>\n",
       "      <td>0</td>\n",
       "      <td>0</td>\n",
       "      <td>STON/O2. 3101282</td>\n",
       "      <td>7.9250</td>\n",
       "      <td>NaN</td>\n",
       "      <td>S</td>\n",
       "    </tr>\n",
       "    <tr>\n",
       "      <th>3</th>\n",
       "      <td>4</td>\n",
       "      <td>1</td>\n",
       "      <td>1</td>\n",
       "      <td>Futrelle, Mrs. Jacques Heath (Lily May Peel)</td>\n",
       "      <td>female</td>\n",
       "      <td>35.0</td>\n",
       "      <td>1</td>\n",
       "      <td>0</td>\n",
       "      <td>113803</td>\n",
       "      <td>53.1000</td>\n",
       "      <td>C123</td>\n",
       "      <td>S</td>\n",
       "    </tr>\n",
       "    <tr>\n",
       "      <th>4</th>\n",
       "      <td>5</td>\n",
       "      <td>0</td>\n",
       "      <td>3</td>\n",
       "      <td>Allen, Mr. William Henry</td>\n",
       "      <td>male</td>\n",
       "      <td>35.0</td>\n",
       "      <td>0</td>\n",
       "      <td>0</td>\n",
       "      <td>373450</td>\n",
       "      <td>8.0500</td>\n",
       "      <td>NaN</td>\n",
       "      <td>S</td>\n",
       "    </tr>\n",
       "  </tbody>\n",
       "</table>\n",
       "</div>"
      ],
      "text/plain": [
       "   PassengerId  Survived  Pclass                                               Name     Sex   Age  SibSp  Parch            Ticket  \\\n",
       "0            1         0       3                            Braund, Mr. Owen Harris    male  22.0      1      0         A/5 21171   \n",
       "1            2         1       1  Cumings, Mrs. John Bradley (Florence Briggs Th...  female  38.0      1      0          PC 17599   \n",
       "2            3         1       3                             Heikkinen, Miss. Laina  female  26.0      0      0  STON/O2. 3101282   \n",
       "3            4         1       1       Futrelle, Mrs. Jacques Heath (Lily May Peel)  female  35.0      1      0            113803   \n",
       "4            5         0       3                           Allen, Mr. William Henry    male  35.0      0      0            373450   \n",
       "\n",
       "      Fare Cabin Embarked  \n",
       "0   7.2500   NaN        S  \n",
       "1  71.2833   C85        C  \n",
       "2   7.9250   NaN        S  \n",
       "3  53.1000  C123        S  \n",
       "4   8.0500   NaN        S  "
      ]
     },
     "execution_count": 3,
     "metadata": {},
     "output_type": "execute_result"
    }
   ],
   "source": [
    "trn_df.head()"
   ]
  },
  {
   "cell_type": "markdown",
   "metadata": {},
   "source": [
    "## Pre-process data"
   ]
  },
  {
   "cell_type": "markdown",
   "metadata": {},
   "source": [
    "### Handling missing data"
   ]
  },
  {
   "cell_type": "code",
   "execution_count": 4,
   "metadata": {},
   "outputs": [
    {
     "data": {
      "text/plain": [
       "PassengerId      0\n",
       "Survived         0\n",
       "Pclass           0\n",
       "Name             0\n",
       "Sex              0\n",
       "Age            177\n",
       "SibSp            0\n",
       "Parch            0\n",
       "Ticket           0\n",
       "Fare             0\n",
       "Cabin          687\n",
       "Embarked         2\n",
       "dtype: int64"
      ]
     },
     "execution_count": 4,
     "metadata": {},
     "output_type": "execute_result"
    }
   ],
   "source": [
    "trn_df.isna().sum()"
   ]
  },
  {
   "cell_type": "code",
   "execution_count": 5,
   "metadata": {},
   "outputs": [
    {
     "data": {
      "text/plain": [
       "<seaborn.axisgrid.FacetGrid at 0x7f0935afaf60>"
      ]
     },
     "execution_count": 5,
     "metadata": {},
     "output_type": "execute_result"
    },
    {
     "data": {
      "image/png": "[encoded data removed]",
      "text/plain": [
       "<Figure size 500x500 with 1 Axes>"
      ]
     },
     "metadata": {},
     "output_type": "display_data"
    }
   ],
   "source": [
    "sns.displot(trn_df['Age'], kde=False, bins=30)"
   ]
  },
  {
   "cell_type": "markdown",
   "metadata": {},
   "source": [
    "age imputation                                                                     "
   ]
  },
  {
   "cell_type": "code",
   "execution_count": 6,
   "metadata": {},
   "outputs": [],
   "source": [
    "age_imputer = KNNImputer(n_neighbors=5)                                              \n",
    "trn_df[\"Age\"] = age_imputer.fit_transform(trn_df[[\"Age\", \"Pclass\", \"SibSp\", \"Parch\"]])[:, 0]"
   ]
  },
  {
   "cell_type": "markdown",
   "metadata": {},
   "source": [
    "handling other missing values"
   ]
  },
  {
   "cell_type": "code",
   "execution_count": 7,
   "metadata": {},
   "outputs": [],
   "source": [
    "modes = trn_df.mode().iloc[0]\n",
    "trn_df.fillna(modes, inplace=True)"
   ]
  },
  {
   "cell_type": "markdown",
   "metadata": {},
   "source": [
    "let's look at our data"
   ]
  },
  {
   "cell_type": "code",
   "execution_count": 8,
   "metadata": {},
   "outputs": [
    {
     "data": {
      "text/html": [
       "<div>\n",
       "<style scoped>\n",
       "    .dataframe tbody tr th:only-of-type {\n",
       "        vertical-align: middle;\n",
       "    }\n",
       "\n",
       "    .dataframe tbody tr th {\n",
       "        vertical-align: top;\n",
       "    }\n",
       "\n",
       "    .dataframe thead th {\n",
       "        text-align: right;\n",
       "    }\n",
       "</style>\n",
       "<table border=\"1\" class=\"dataframe\">\n",
       "  <thead>\n",
       "    <tr style=\"text-align: right;\">\n",
       "      <th></th>\n",
       "      <th>PassengerId</th>\n",
       "      <th>Survived</th>\n",
       "      <th>Pclass</th>\n",
       "      <th>Age</th>\n",
       "      <th>SibSp</th>\n",
       "      <th>Parch</th>\n",
       "      <th>Fare</th>\n",
       "    </tr>\n",
       "  </thead>\n",
       "  <tbody>\n",
       "    <tr>\n",
       "      <th>count</th>\n",
       "      <td>891.000000</td>\n",
       "      <td>891.000000</td>\n",
       "      <td>891.000000</td>\n",
       "      <td>891.000000</td>\n",
       "      <td>891.000000</td>\n",
       "      <td>891.000000</td>\n",
       "      <td>891.000000</td>\n",
       "    </tr>\n",
       "    <tr>\n",
       "      <th>mean</th>\n",
       "      <td>446.000000</td>\n",
       "      <td>0.383838</td>\n",
       "      <td>2.308642</td>\n",
       "      <td>29.828249</td>\n",
       "      <td>0.523008</td>\n",
       "      <td>0.381594</td>\n",
       "      <td>32.204208</td>\n",
       "    </tr>\n",
       "    <tr>\n",
       "      <th>std</th>\n",
       "      <td>257.353842</td>\n",
       "      <td>0.486592</td>\n",
       "      <td>0.836071</td>\n",
       "      <td>13.293378</td>\n",
       "      <td>1.102743</td>\n",
       "      <td>0.806057</td>\n",
       "      <td>49.693429</td>\n",
       "    </tr>\n",
       "    <tr>\n",
       "      <th>min</th>\n",
       "      <td>1.000000</td>\n",
       "      <td>0.000000</td>\n",
       "      <td>1.000000</td>\n",
       "      <td>0.420000</td>\n",
       "      <td>0.000000</td>\n",
       "      <td>0.000000</td>\n",
       "      <td>0.000000</td>\n",
       "    </tr>\n",
       "    <tr>\n",
       "      <th>25%</th>\n",
       "      <td>223.500000</td>\n",
       "      <td>0.000000</td>\n",
       "      <td>2.000000</td>\n",
       "      <td>22.000000</td>\n",
       "      <td>0.000000</td>\n",
       "      <td>0.000000</td>\n",
       "      <td>7.910400</td>\n",
       "    </tr>\n",
       "    <tr>\n",
       "      <th>50%</th>\n",
       "      <td>446.000000</td>\n",
       "      <td>0.000000</td>\n",
       "      <td>3.000000</td>\n",
       "      <td>30.000000</td>\n",
       "      <td>0.000000</td>\n",
       "      <td>0.000000</td>\n",
       "      <td>14.454200</td>\n",
       "    </tr>\n",
       "    <tr>\n",
       "      <th>75%</th>\n",
       "      <td>668.500000</td>\n",
       "      <td>1.000000</td>\n",
       "      <td>3.000000</td>\n",
       "      <td>35.800000</td>\n",
       "      <td>1.000000</td>\n",
       "      <td>0.000000</td>\n",
       "      <td>31.000000</td>\n",
       "    </tr>\n",
       "    <tr>\n",
       "      <th>max</th>\n",
       "      <td>891.000000</td>\n",
       "      <td>1.000000</td>\n",
       "      <td>3.000000</td>\n",
       "      <td>80.000000</td>\n",
       "      <td>8.000000</td>\n",
       "      <td>6.000000</td>\n",
       "      <td>512.329200</td>\n",
       "    </tr>\n",
       "  </tbody>\n",
       "</table>\n",
       "</div>"
      ],
      "text/plain": [
       "       PassengerId    Survived      Pclass         Age       SibSp       Parch        Fare\n",
       "count   891.000000  891.000000  891.000000  891.000000  891.000000  891.000000  891.000000\n",
       "mean    446.000000    0.383838    2.308642   29.828249    0.523008    0.381594   32.204208\n",
       "std     257.353842    0.486592    0.836071   13.293378    1.102743    0.806057   49.693429\n",
       "min       1.000000    0.000000    1.000000    0.420000    0.000000    0.000000    0.000000\n",
       "25%     223.500000    0.000000    2.000000   22.000000    0.000000    0.000000    7.910400\n",
       "50%     446.000000    0.000000    3.000000   30.000000    0.000000    0.000000   14.454200\n",
       "75%     668.500000    1.000000    3.000000   35.800000    1.000000    0.000000   31.000000\n",
       "max     891.000000    1.000000    3.000000   80.000000    8.000000    6.000000  512.329200"
      ]
     },
     "execution_count": 8,
     "metadata": {},
     "output_type": "execute_result"
    }
   ],
   "source": [
    "trn_df.describe(include=np.number)"
   ]
  },
  {
   "cell_type": "markdown",
   "metadata": {},
   "source": [
    "the fare seems wired right? take a closer look at it?"
   ]
  },
  {
   "cell_type": "code",
   "execution_count": 9,
   "metadata": {},
   "outputs": [
    {
     "data": {
      "image/png": "[encoded data removed]",
      "text/plain": [
       "<Figure size 640x480 with 1 Axes>"
      ]
     },
     "metadata": {},
     "output_type": "display_data"
    }
   ],
   "source": [
    "trn_df['Fare'].hist();"
   ]
  },
  {
   "cell_type": "code",
   "execution_count": 10,
   "metadata": {},
   "outputs": [],
   "source": [
    "trn_df[\"LogFare\"] = np.log1p(trn_df['Fare'])"
   ]
  },
  {
   "cell_type": "code",
   "execution_count": 11,
   "metadata": {},
   "outputs": [
    {
     "data": {
      "image/png": "[encoded data removed]",
      "text/plain": [
       "<Figure size 640x480 with 1 Axes>"
      ]
     },
     "metadata": {},
     "output_type": "display_data"
    }
   ],
   "source": [
    "trn_df['LogFare'].hist();"
   ]
  },
  {
   "cell_type": "markdown",
   "metadata": {},
   "source": [
    "it's look better now, let's do some feature engineering!"
   ]
  },
  {
   "cell_type": "code",
   "execution_count": 12,
   "metadata": {},
   "outputs": [],
   "source": [
    "# family features\n",
    "trn_df[\"FamilySize\"] = trn_df[\"SibSp\"] + trn_df[\"Parch\"] + 1\n",
    "trn_df[\"IsAlone\"] = (trn_df[\"FamilySize\"] == 1).astype(int)"
   ]
  },
  {
   "cell_type": "code",
   "execution_count": 13,
   "metadata": {},
   "outputs": [
    {
     "data": {
      "text/plain": [
       "<Axes: xlabel='Survived', ylabel='count'>"
      ]
     },
     "execution_count": 13,
     "metadata": {},
     "output_type": "execute_result"
    },
    {
     "data": {
      "image/png": "[encoded data removed]",
      "text/plain": [
       "<Figure size 640x480 with 1 Axes>"
      ]
     },
     "metadata": {},
     "output_type": "display_data"
    }
   ],
   "source": [
    "sns.countplot(x='Survived', data=trn_df, hue='FamilySize', palette='RdBu_r')"
   ]
  },
  {
   "cell_type": "markdown",
   "metadata": {},
   "source": [
    "maybe it was hard to round up the whole crew?"
   ]
  },
  {
   "cell_type": "markdown",
   "metadata": {},
   "source": [
    "\"Name that title\"?"
   ]
  },
  {
   "cell_type": "code",
   "execution_count": 14,
   "metadata": {},
   "outputs": [],
   "source": [
    "trn_df['Title'] = trn_df['Name'].str.extract(r' ([A-Za-z]+)\\.', expand=False)\n",
    "rare_titles = ['Lady', 'Countess','Capt', 'Col', 'Don', 'Dr', 'Major', 'Rev', 'Sir', 'Jonkheer', 'Dona']\n",
    "trn_df['Title'] = trn_df['Title'].replace(rare_titles, 'Rare')\n",
    "trn_df['Title'] = trn_df['Title'].replace(['Mlle', 'Ms'], 'Miss')\n",
    "trn_df['Title'] = trn_df['Title'].replace('Mme', 'Mrs')\n",
    "title_mapping = {\"Mr\": 1, \"Miss\": 2, \"Mrs\": 3, \"Master\": 4, \"Rare\": 5}\n",
    "trn_df['Title'] = trn_df['Title'].map(title_mapping)"
   ]
  },
  {
   "cell_type": "code",
   "execution_count": 15,
   "metadata": {},
   "outputs": [
    {
     "data": {
      "image/png": "[encoded data removed]",
      "text/plain": [
       "<Figure size 640x480 with 1 Axes>"
      ]
     },
     "metadata": {},
     "output_type": "display_data"
    }
   ],
   "source": [
    "proportions = trn_df.groupby('Title')['Survived'].value_counts(normalize=True).rename('proportion').reset_index()\n",
    "sns.barplot(x='Title', y='proportion', hue='Survived', data=proportions)\n",
    "plt.title('Survival Rate by Title')\n",
    "plt.xlabel('Title')\n",
    "plt.ylabel('Proportion')\n",
    "plt.show()"
   ]
  },
  {
   "cell_type": "markdown",
   "metadata": {},
   "source": [
    "poor Mr.1!"
   ]
  },
  {
   "cell_type": "markdown",
   "metadata": {},
   "source": [
    "group passengers by age"
   ]
  },
  {
   "cell_type": "code",
   "execution_count": 16,
   "metadata": {},
   "outputs": [],
   "source": [
    "trn_df['AgeBin'] = pd.cut(trn_df['Age'], bins=[0, 12, 20, 40, 60, np.inf], labels=[1, 2, 3, 4, 5])"
   ]
  },
  {
   "cell_type": "markdown",
   "metadata": {},
   "source": [
    "one hot encode 'em"
   ]
  },
  {
   "cell_type": "code",
   "execution_count": 17,
   "metadata": {},
   "outputs": [],
   "source": [
    "trn_df = pd.get_dummies(trn_df, columns=[\"Sex\", \"Pclass\", \"Embarked\", \"AgeBin\"], drop_first=True, dtype=float)"
   ]
  },
  {
   "cell_type": "markdown",
   "metadata": {},
   "source": [
    "a function to do this for our life easier? got you!"
   ]
  },
  {
   "cell_type": "code",
   "execution_count": 18,
   "metadata": {},
   "outputs": [],
   "source": [
    "def preprocess_data(df):\n",
    "    age_imputer = KNNImputer(n_neighbors=5)\n",
    "    df[\"Age\"] = age_imputer.fit_transform(df[[\"Age\", \"Pclass\", \"SibSp\", \"Parch\"]])[:, 0]\n",
    "    modes = trn_df.mode().iloc[0]\n",
    "    df.fillna(modes, inplace=True)\n",
    "    df[\"LogFare\"] = np.log1p(df[\"Fare\"])\n",
    "    df[\"FamilySize\"] = df[\"SibSp\"] + df[\"Parch\"] + 1\n",
    "    df['IsAlone'] = (df['FamilySize'] == 1).astype(int)\n",
    "    df['Title'] = df['Name'].str.extract(r' ([A-Za-z]+)\\.', expand=False)\n",
    "    rare_titles = ['Lady', 'Countess','Capt', 'Col', 'Don', 'Dr', 'Major', 'Rev', 'Sir', 'Jonkheer', 'Dona']\n",
    "    df['Title'] = df['Title'].replace(rare_titles, 'Rare')\n",
    "    df['Title'] = df['Title'].replace(['Mlle', 'Ms'], 'Miss')\n",
    "    df['Title'] = df['Title'].replace('Mme', 'Mrs')\n",
    "    title_mapping = {\"Mr\": 1, \"Miss\": 2, \"Mrs\": 3, \"Master\": 4, \"Rare\": 5}\n",
    "    df['Title'] = df['Title'].map(title_mapping)\n",
    "    df['AgeBin'] = pd.cut(df['Age'], bins=[0, 12, 20, 40, 60, np.inf], labels=[1, 2, 3, 4, 5])\n",
    "    \n",
    "    # One-hot encoding\n",
    "    df = pd.get_dummies(df, columns=['Sex', 'Pclass', 'Embarked', 'AgeBin'], drop_first=True, dtype=float)\n",
    "    return df"
   ]
  },
  {
   "cell_type": "markdown",
   "metadata": {},
   "source": [
    "just take out the features that we're sure it's relevant the most to the survival rates, alright"
   ]
  },
  {
   "cell_type": "code",
   "execution_count": 19,
   "metadata": {},
   "outputs": [],
   "source": [
    "def get_columns(name):\n",
    "    return [col for col in trn_df.columns if col.startswith(name)]\n",
    "added_cols = get_columns((\"Sex_\", \"Pclass\", \"Embarked_\", \"AgeBin_\"))\n",
    "\n",
    "indep_cols = ['Title', 'Age', 'SibSp', 'Parch', 'LogFare', 'FamilySize', 'IsAlone'] + added_cols"
   ]
  },
  {
   "cell_type": "markdown",
   "metadata": {},
   "source": [
    "alright we got them all, now let's make it from scratch, shall we?"
   ]
  },
  {
   "cell_type": "code",
   "execution_count": 20,
   "metadata": {},
   "outputs": [
    {
     "data": {
      "text/plain": [
       "array([[ 1. , 22. ,  1. , ...,  1. ,  0. ,  0. ],\n",
       "       [ 3. , 38. ,  1. , ...,  1. ,  0. ,  0. ],\n",
       "       [ 2. , 26. ,  0. , ...,  1. ,  0. ,  0. ],\n",
       "       ...,\n",
       "       [ 2. , 28.8,  1. , ...,  1. ,  0. ,  0. ],\n",
       "       [ 1. , 26. ,  0. , ...,  1. ,  0. ,  0. ],\n",
       "       [ 1. , 32. ,  0. , ...,  1. ,  0. ,  0. ]])"
      ]
     },
     "execution_count": 20,
     "metadata": {},
     "output_type": "execute_result"
    }
   ],
   "source": [
    "t_indep = trn_df[indep_cols].values\n",
    "t_indep"
   ]
  },
  {
   "cell_type": "markdown",
   "metadata": {},
   "source": [
    "the age seems to large let's normalize it"
   ]
  },
  {
   "cell_type": "code",
   "execution_count": 21,
   "metadata": {},
   "outputs": [
    {
     "data": {
      "text/plain": [
       "tensor([[-0.7076, -0.5892,  0.4328, -0.4737, -0.8797,  0.0592, -1.2316,  0.7377, -0.5102,  0.9026, -0.3076,  0.6158, -0.3753,  0.7874,\n",
       "         -0.4115, -0.1591],\n",
       "        [ 1.2352,  0.6151,  0.4328, -0.4737,  1.3612,  0.0592, -1.2316, -1.3556, -0.5102, -1.1079, -0.3076, -1.6238, -0.3753,  0.7874,\n",
       "         -0.4115, -0.1591],\n",
       "        [ 0.2638, -0.2881, -0.4745, -0.4737, -0.7985, -0.5610,  0.8119, -1.3556, -0.5102,  0.9026, -0.3076,  0.6158, -0.3753,  0.7874,\n",
       "         -0.4115, -0.1591],\n",
       "        [ 1.2352,  0.3893,  0.4328, -0.4737,  1.0620,  0.0592, -1.2316, -1.3556, -0.5102, -1.1079, -0.3076,  0.6158, -0.3753,  0.7874,\n",
       "         -0.4115, -0.1591],\n",
       "        [-0.7076,  0.3893, -0.4745, -0.4737, -0.7842, -0.5610,  0.8119,  0.7377, -0.5102,  0.9026, -0.3076,  0.6158, -0.3753,  0.7874,\n",
       "         -0.4115, -0.1591],\n",
       "        [-0.7076,  0.2312, -0.4745, -0.4737, -0.7386, -0.5610,  0.8119,  0.7377, -0.5102,  0.9026,  3.2514, -1.6238, -0.3753,  0.7874,\n",
       "         -0.4115, -0.1591],\n",
       "        [-0.7076,  1.8194, -0.4745, -0.4737,  1.0381, -0.5610,  0.8119,  0.7377, -0.5102, -1.1079, -0.3076,  0.6158, -0.3753, -1.2700,\n",
       "          2.4304, -0.1591],\n",
       "        [ 2.2066, -2.0946,  2.2475,  0.7676,  0.1365,  1.9196, -1.2316,  0.7377, -0.5102,  0.9026, -0.3076,  0.6158, -0.3753, -1.2700,\n",
       "         -0.4115, -0.1591],\n",
       "        [ 1.2352, -0.2129, -0.4745,  2.0089, -0.4815,  0.6793, -1.2316, -1.3556, -0.5102,  0.9026, -0.3076,  0.6158, -0.3753,  0.7874,\n",
       "         -0.4115, -0.1591],\n",
       "        [ 1.2352, -1.1914,  0.4328, -0.4737,  0.4894,  0.0592, -1.2316, -1.3556,  1.9602, -1.1079, -0.3076, -1.6238,  2.6646, -1.2700,\n",
       "         -0.4115, -0.1591]])"
      ]
     },
     "execution_count": 21,
     "metadata": {},
     "output_type": "execute_result"
    }
   ],
   "source": [
    "scaler = StandardScaler()\n",
    "t_indep = tensor(scaler.fit_transform(trn_df[indep_cols].values), dtype=torch.float)\n",
    "t_dep = tensor(trn_df[\"Survived\"])\n",
    "t_indep[:10]"
   ]
  },
  {
   "cell_type": "markdown",
   "metadata": {},
   "source": [
    "it's better to have a validation set though!"
   ]
  },
  {
   "cell_type": "code",
   "execution_count": 22,
   "metadata": {},
   "outputs": [],
   "source": [
    "from fastai.data.transforms import RandomSplitter\n",
    "trn_split, val_split = RandomSplitter(seed=42)(trn_df)\n",
    "trn_indep, val_indep = t_indep[trn_split], t_indep[val_split]\n",
    "trn_dep, val_dep = t_dep[trn_split], t_dep[val_split]"
   ]
  },
  {
   "cell_type": "markdown",
   "metadata": {},
   "source": [
    "## Our blueprint"
   ]
  },
  {
   "cell_type": "markdown",
   "metadata": {},
   "source": [
    "initialize our coeff"
   ]
  },
  {
   "cell_type": "code",
   "execution_count": 23,
   "metadata": {},
   "outputs": [],
   "source": [
    "def init_coeffs(n_input, n_hidden=10):\n",
    "    layer_1 = torch.randn(n_input, n_hidden) / np.sqrt(n_input)\n",
    "    layer_2 = torch.randn(n_hidden, 1) / np.sqrt(n_hidden)\n",
    "    const = torch.rand(1)[0]\n",
    "    return (layer_1.requires_grad_(), layer_2.requires_grad_(), const.requires_grad_())"
   ]
  },
  {
   "cell_type": "markdown",
   "metadata": {},
   "source": [
    "function to calculate predictions"
   ]
  },
  {
   "cell_type": "code",
   "execution_count": 24,
   "metadata": {},
   "outputs": [],
   "source": [
    "def calc_preds(coeffs, indep):\n",
    "    l1, l2, const = coeffs\n",
    "    res = F.relu(indep @ l1) \n",
    "    res = res@l2 + const\n",
    "    return torch.sigmoid(res)"
   ]
  },
  {
   "cell_type": "markdown",
   "metadata": {},
   "source": [
    "our loss(yeah, ur right, the felling when M.U losses!)"
   ]
  },
  {
   "cell_type": "code",
   "execution_count": 25,
   "metadata": {},
   "outputs": [],
   "source": [
    "def calc_loss(coeffs, indeps, deps):\n",
    "    return torch.abs(calc_preds(coeffs, indeps)-deps.float().unsqueeze(1)).mean()"
   ]
  },
  {
   "cell_type": "markdown",
   "metadata": {},
   "source": [
    "what an epoch looks like?"
   ]
  },
  {
   "cell_type": "code",
   "execution_count": 26,
   "metadata": {},
   "outputs": [],
   "source": [
    "def one_epoch(coeffs, lr, batch_size=64):\n",
    "    n = len(trn_indep)\n",
    "    for i in range(0, n, batch_size):\n",
    "        batch_indep = trn_indep[i:i+batch_size]\n",
    "        batch_dep = trn_dep[i:i+batch_size]\n",
    "        \n",
    "        loss = calc_loss(coeffs, batch_indep, batch_dep)\n",
    "        loss.backward()\n",
    "\n",
    "        with torch.no_grad():\n",
    "            for layer in coeffs:\n",
    "                layer.sub_(layer.grad * lr)\n",
    "                layer.grad.zero_()"
   ]
  },
  {
   "cell_type": "markdown",
   "metadata": {},
   "source": [
    "let's put them all together"
   ]
  },
  {
   "cell_type": "code",
   "execution_count": 27,
   "metadata": {},
   "outputs": [],
   "source": [
    "def train_model(epochs=300, lr=0.01):\n",
    "    torch.manual_seed(442)\n",
    "    coeffs = init_coeffs(trn_indep.shape[1])\n",
    "    best_val_loss = float(\"inf\")\n",
    "    patience = 20\n",
    "    counter = 0\n",
    "\n",
    "    for epoch in range(epochs):\n",
    "        one_epoch(coeffs, lr)\n",
    "        with torch.no_grad():\n",
    "            train_loss = calc_loss(coeffs, trn_indep, trn_dep)\n",
    "            val_loss = calc_loss(coeffs, val_indep, val_dep)\n",
    "        \n",
    "        if val_loss < best_val_loss:\n",
    "            best_val_loss = val_loss\n",
    "            best_coeffs = [c.clone() for c in coeffs]\n",
    "            counter = 0\n",
    "        else:\n",
    "            counter += 1\n",
    "        \n",
    "        if counter > patience:\n",
    "            print(f\"Early stopping at epoch {epoch}\")\n",
    "            break\n",
    "\n",
    "        if epoch % 5 == 0:\n",
    "            print(f\"Epoch {epoch}: Train Loss {train_loss:.4f}, Val Loss {val_loss:.4f}\")\n",
    "        lr *= 0.97  # learning rate schedule\n",
    "    return best_coeffs"
   ]
  },
  {
   "cell_type": "markdown",
   "metadata": {},
   "source": [
    "let's see how it will go!"
   ]
  },
  {
   "cell_type": "code",
   "execution_count": 28,
   "metadata": {},
   "outputs": [
    {
     "name": "stdout",
     "output_type": "stream",
     "text": [
      "Epoch 0: Train Loss 0.3485, Val Loss 0.3620\n",
      "Epoch 5: Train Loss 0.1921, Val Loss 0.1934\n",
      "Epoch 10: Train Loss 0.1819, Val Loss 0.1850\n",
      "Epoch 15: Train Loss 0.1775, Val Loss 0.1805\n",
      "Epoch 20: Train Loss 0.1739, Val Loss 0.1783\n",
      "Epoch 25: Train Loss 0.1715, Val Loss 0.1771\n",
      "Epoch 30: Train Loss 0.1702, Val Loss 0.1759\n",
      "Epoch 35: Train Loss 0.1693, Val Loss 0.1750\n",
      "Epoch 40: Train Loss 0.1686, Val Loss 0.1744\n",
      "Epoch 45: Train Loss 0.1680, Val Loss 0.1741\n",
      "Validation Accuracy: 0.8315\n"
     ]
    }
   ],
   "source": [
    "def acc(coeffs): \n",
    "    return (val_dep.bool() == (calc_preds(coeffs, val_indep) > 0.5).squeeze()).float().mean()\n",
    "\n",
    "coeffs = train_model(epochs=50, lr=1) \n",
    "print(f\"Validation Accuracy: {acc(coeffs):.4f}\")"
   ]
  },
  {
   "cell_type": "markdown",
   "metadata": {},
   "source": [
    "the results are in!"
   ]
  },
  {
   "cell_type": "code",
   "execution_count": 29,
   "metadata": {},
   "outputs": [],
   "source": [
    "tst_df = pd.read_csv(path/\"test.csv\")\n",
    "tst_df = preprocess_data(tst_df)\n",
    "\n",
    "tst_indep = torch.tensor(tst_df[indep_cols].values, dtype=torch.float)\n",
    "# Scale test data using the same scaler\n",
    "tst_indep = torch.tensor(scaler.transform(tst_indep), dtype=torch.float)\n",
    "\n",
    "# Make predictions\n",
    "tst_df['Survived'] = (calc_preds(coeffs, tst_indep)>0.5).int()"
   ]
  },
  {
   "cell_type": "code",
   "execution_count": 30,
   "metadata": {},
   "outputs": [
    {
     "name": "stdout",
     "output_type": "stream",
     "text": [
      "149\n",
      "Survived\n",
      "0    269\n",
      "1    149\n",
      "Name: count, dtype: int64\n"
     ]
    }
   ],
   "source": [
    "sub_df = tst_df[['PassengerId', 'Survived']]\n",
    "print(sub_df[\"Survived\"].sum())\n",
    "print(sub_df[\"Survived\"].value_counts())"
   ]
  },
  {
   "cell_type": "markdown",
   "metadata": {},
   "source": [
    "reasonable huh?"
   ]
  },
  {
   "cell_type": "code",
   "execution_count": 31,
   "metadata": {},
   "outputs": [],
   "source": [
    "sub_df.to_csv(\"sub.csv\", index=False)"
   ]
  },
  {
   "cell_type": "code",
   "execution_count": 32,
   "metadata": {},
   "outputs": [
    {
     "name": "stdout",
     "output_type": "stream",
     "text": [
      "PassengerId,Survived\n",
      "892,0\n",
      "893,0\n",
      "894,0\n",
      "895,0\n",
      "896,1\n",
      "897,0\n",
      "898,1\n",
      "899,0\n",
      "900,1\n"
     ]
    }
   ],
   "source": [
    "!head sub.csv"
   ]
  },
  {
   "cell_type": "markdown",
   "metadata": {},
   "source": [
    "with this one i got uh, i forgot it, damnit! i think it's like 0.77 acc\n",
    "\n",
    "i think it did pretty good for a model building from scratch, didn't it? let's improve it, shall we?"
   ]
  }
 ],
 "metadata": {
  "kernelspec": {
   "display_name": "base",
   "language": "python",
   "name": "python3"
  },
  "language_info": {
   "codemirror_mode": {
    "name": "ipython",
    "version": 3
   },
   "file_extension": ".py",
   "mimetype": "text/x-python",
   "name": "python",
   "nbconvert_exporter": "python",
   "pygments_lexer": "ipython3",
   "version": "3.12.2"
  }
 },
 "nbformat": 4,
 "nbformat_minor": 2
}
