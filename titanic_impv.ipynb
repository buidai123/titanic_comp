{
 "cells": [
  {
   "cell_type": "markdown",
   "metadata": {},
   "source": [
    "let's do it properly this time!"
   ]
  },
  {
   "cell_type": "code",
   "execution_count": 1,
   "metadata": {},
   "outputs": [],
   "source": [
    "import torch\n",
    "from pathlib import Path\n",
    "import torch.nn.functional as F\n",
    "import numpy as np\n",
    "import pandas as pd\n",
    "from sklearn.model_selection import train_test_split\n",
    "from sklearn.preprocessing import StandardScaler\n",
    "from sklearn.impute import KNNImputer\n",
    "\n",
    "torch.manual_seed(442)\n",
    "\n",
    "np.printoptions(linewidth=140)\n",
    "torch.set_printoptions(linewidth=140, sci_mode=False, edgeitems=7)\n",
    "pd.set_option(\"display.width\", 140)"
   ]
  },
  {
   "cell_type": "code",
   "execution_count": 2,
   "metadata": {},
   "outputs": [],
   "source": [
    "path = Path(\"./input\")\n",
    "train_path = path/\"train.csv\"\n",
    "trn_df = pd.read_csv(train_path)"
   ]
  },
  {
   "cell_type": "markdown",
   "metadata": {},
   "source": [
    "nothing to do with the data anymore, i don't think do some feature engineering here will help improve  our model though, it will add some noises, remember \"sometimes less is more!\""
   ]
  },
  {
   "cell_type": "code",
   "execution_count": 3,
   "metadata": {},
   "outputs": [],
   "source": [
    "def preprocess_data(df):\n",
    "    age_imputer = KNNImputer(n_neighbors=5)\n",
    "    df[\"Age\"] = age_imputer.fit_transform(df[[\"Age\", \"Pclass\", \"SibSp\", \"Parch\"]])[:, 0]\n",
    "    df[\"LogFare\"] = np.log1p(df[\"Fare\"])\n",
    "    df[\"FamilySize\"] = df[\"SibSp\"] + df[\"Parch\"] + 1\n",
    "    df['IsAlone'] = (df['FamilySize'] == 1).astype(int)\n",
    "    df['Title'] = df['Name'].str.extract(r' ([A-Za-z]+)\\.', expand=False)\n",
    "    rare_titles = ['Lady', 'Countess','Capt', 'Col', 'Don', 'Dr', 'Major', 'Rev', 'Sir', 'Jonkheer', 'Dona']\n",
    "    df['Title'] = df['Title'].replace(rare_titles, 'Rare')\n",
    "    df['Title'] = df['Title'].replace(['Mlle', 'Ms'], 'Miss')\n",
    "    df['Title'] = df['Title'].replace('Mme', 'Mrs')\n",
    "    title_mapping = {\"Mr\": 1, \"Miss\": 2, \"Mrs\": 3, \"Master\": 4, \"Rare\": 5}\n",
    "    df['Title'] = df['Title'].map(title_mapping)\n",
    "    df['AgeBin'] = pd.cut(df['Age'], bins=[0, 12, 20, 40, 60, np.inf], labels=[1, 2, 3, 4, 5])\n",
    "    \n",
    "    # One-hot encoding\n",
    "    df = pd.get_dummies(df, columns=['Sex', 'Pclass', 'Embarked', 'AgeBin'], drop_first=True, dtype=float)\n",
    "    return df\n",
    "\n",
    "# Preprocess training data\n",
    "trn_df = preprocess_data(trn_df)\n",
    "\n",
    "def get_columns(name):\n",
    "    return [col for col in trn_df.columns if col.startswith(name)]\n",
    "added_cols = get_columns((\"Sex_\", \"Pclass\", \"Embarked_\", \"AgeBin_\"))\n",
    "\n",
    "indep_cols = ['Title', 'Age', 'SibSp', 'Parch', 'LogFare', 'FamilySize', 'IsAlone'] + added_cols"
   ]
  },
  {
   "cell_type": "markdown",
   "metadata": {},
   "source": [
    "let's improve our architecture\n",
    "\n",
    "this time let's try the pytorch way"
   ]
  },
  {
   "cell_type": "code",
   "execution_count": 4,
   "metadata": {},
   "outputs": [],
   "source": [
    "class SimpleNN(torch.nn.Module):\n",
    "    def __init__(self, input_size, hidden_size):\n",
    "        super(SimpleNN, self).__init__()\n",
    "        self.fc1 = torch.nn.Linear(input_size, hidden_size)\n",
    "        self.bn1 = torch.nn.BatchNorm1d(hidden_size)\n",
    "        self.fc2 = torch.nn.Linear(hidden_size, 1)\n",
    "    \n",
    "    def forward(self, x):\n",
    "        x = F.relu(self.bn1(self.fc1(x)))\n",
    "        x = torch.sigmoid(self.fc2(x))\n",
    "        return x\n",
    "\n",
    "def train_model(model, X_train, y_train, X_val, y_val, epochs=300, lr=0.01, batch_size=32):\n",
    "    optimizer = torch.optim.Adam(model.parameters(), lr=lr, weight_decay=0.01)  # L2 regularization\n",
    "    scheduler = torch.optim.lr_scheduler.StepLR(optimizer, step_size=50, gamma=0.5)  # Step LR schedule\n",
    "    \n",
    "    best_val_loss = float('inf')\n",
    "    patience = 20\n",
    "    counter = 0\n",
    "    \n",
    "    for epoch in range(epochs):\n",
    "        model.train()\n",
    "        for i in range(0, len(X_train), batch_size):\n",
    "            batch_X = X_train[i:i+batch_size]\n",
    "            batch_y = y_train[i:i+batch_size]\n",
    "            \n",
    "            optimizer.zero_grad()\n",
    "            outputs = model(batch_X)\n",
    "            loss = F.binary_cross_entropy(outputs, batch_y.unsqueeze(1))\n",
    "            loss.backward()\n",
    "            optimizer.step()\n",
    "        \n",
    "        scheduler.step()\n",
    "        \n",
    "        model.eval()\n",
    "        with torch.no_grad():\n",
    "            val_outputs = model(X_val)\n",
    "            val_loss = F.binary_cross_entropy(val_outputs, y_val.unsqueeze(1))\n",
    "            \n",
    "        if val_loss < best_val_loss:\n",
    "            best_val_loss = val_loss\n",
    "            best_model = model.state_dict()\n",
    "            counter = 0\n",
    "        else:\n",
    "            counter += 1\n",
    "        \n",
    "        if counter > patience:\n",
    "            print(f\"Early stopping at epoch {epoch}\")\n",
    "            break\n",
    "        \n",
    "        if epoch % 10 == 0:\n",
    "            print(f\"Epoch {epoch}: Train Loss {loss.item():.4f}, Val Loss {val_loss.item():.4f}\")\n",
    "    \n",
    "    model.load_state_dict(best_model)\n",
    "    return model"
   ]
  },
  {
   "cell_type": "markdown",
   "metadata": {},
   "source": [
    "that's it for our arch, let's test it to see how far it will go"
   ]
  },
  {
   "cell_type": "code",
   "execution_count": 5,
   "metadata": {},
   "outputs": [
    {
     "name": "stdout",
     "output_type": "stream",
     "text": [
      "Epoch 0: Train Loss 0.3662, Val Loss 0.4901\n",
      "Epoch 10: Train Loss 0.2244, Val Loss 0.4254\n",
      "Epoch 20: Train Loss 0.2155, Val Loss 0.4271\n",
      "Early stopping at epoch 29\n",
      "Validation Accuracy: 0.8268\n"
     ]
    }
   ],
   "source": [
    "# Prepare the data\n",
    "scaler = StandardScaler()\n",
    "X = scaler.fit_transform(trn_df[indep_cols].values)\n",
    "y = trn_df['Survived'].values\n",
    "\n",
    "X_train, X_val, y_train, y_val = train_test_split(X, y, test_size=0.2, random_state=42)\n",
    "\n",
    "X_train = torch.FloatTensor(X_train)\n",
    "y_train = torch.FloatTensor(y_train)\n",
    "X_val = torch.FloatTensor(X_val)\n",
    "y_val = torch.FloatTensor(y_val)\n",
    "\n",
    "# Initialize and train the model\n",
    "input_size = X_train.shape[1]\n",
    "hidden_size = 10\n",
    "model = SimpleNN(input_size, hidden_size)\n",
    "\n",
    "trained_model = train_model(model, X_train, y_train, X_val, y_val, epochs=50, lr=0.02)\n",
    "\n",
    "# Evaluate the model\n",
    "model.eval()\n",
    "with torch.no_grad():\n",
    "    val_outputs = model(X_val)\n",
    "    val_preds = (val_outputs > 0.5).float()\n",
    "    accuracy = (val_preds.squeeze() == y_val).float().mean()\n",
    "    print(f\"Validation Accuracy: {accuracy.item():.4f}\")"
   ]
  },
  {
   "cell_type": "markdown",
   "metadata": {},
   "source": [
    "alright, let's make it"
   ]
  },
  {
   "cell_type": "code",
   "execution_count": 6,
   "metadata": {},
   "outputs": [],
   "source": [
    "## Load and preprocess test data\n",
    "test_df = pd.read_csv(path / \"test.csv\")\n",
    "test_df = preprocess_data(test_df)\n",
    "\n",
    "for col in indep_cols:\n",
    "    if col not in test_df.columns:\n",
    "        test_df[col] = 0  \n",
    "\n",
    "X_test = test_df[indep_cols].values\n",
    "X_test = scaler.transform(X_test)\n",
    "X_test = torch.FloatTensor(X_test)"
   ]
  },
  {
   "cell_type": "markdown",
   "metadata": {},
   "source": [
    "make predictions on testset"
   ]
  },
  {
   "cell_type": "code",
   "execution_count": 7,
   "metadata": {},
   "outputs": [],
   "source": [
    "model.eval()\n",
    "with torch.no_grad():\n",
    "    test_outputs = model(X_test)\n",
    "    test_preds = (test_outputs > 0.5).int()\n",
    "test_df[\"Survived\"] = test_preds"
   ]
  },
  {
   "cell_type": "code",
   "execution_count": 8,
   "metadata": {},
   "outputs": [
    {
     "name": "stdout",
     "output_type": "stream",
     "text": [
      "149\n",
      "Survived\n",
      "0    269\n",
      "1    149\n",
      "Name: count, dtype: int64\n"
     ]
    }
   ],
   "source": [
    "sub_df = test_df[['PassengerId', 'Survived']]\n",
    "print(sub_df[\"Survived\"].sum())\n",
    "print(sub_df[\"Survived\"].value_counts())"
   ]
  },
  {
   "cell_type": "code",
   "execution_count": 9,
   "metadata": {},
   "outputs": [],
   "source": [
    "sub_df.to_csv(\"sub.csv\", index=False)"
   ]
  },
  {
   "cell_type": "code",
   "execution_count": 10,
   "metadata": {},
   "outputs": [
    {
     "name": "stdout",
     "output_type": "stream",
     "text": [
      "PassengerId,Survived\n",
      "892,0\n",
      "893,0\n",
      "894,0\n",
      "895,0\n",
      "896,1\n",
      "897,0\n",
      "898,1\n",
      "899,0\n",
      "900,1\n"
     ]
    }
   ],
   "source": [
    "!head sub.csv"
   ]
  },
  {
   "cell_type": "markdown",
   "metadata": {},
   "source": [
    "this time i hit 0.7871 acc, which is i think pretty good for titanic comp(don't count those who use extra data here)\n",
    "\n",
    "alright, see ya, happy codding, btw!"
   ]
  }
 ],
 "metadata": {
  "kernelspec": {
   "display_name": "base",
   "language": "python",
   "name": "python3"
  },
  "language_info": {
   "codemirror_mode": {
    "name": "ipython",
    "version": 3
   },
   "file_extension": ".py",
   "mimetype": "text/x-python",
   "name": "python",
   "nbconvert_exporter": "python",
   "pygments_lexer": "ipython3",
   "version": "3.12.2"
  }
 },
 "nbformat": 4,
 "nbformat_minor": 2
}
